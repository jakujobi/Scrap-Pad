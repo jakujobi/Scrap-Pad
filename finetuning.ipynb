{
 "cells": [
  {
   "cell_type": "code",
   "execution_count": 1,
   "metadata": {},
   "outputs": [],
   "source": [
    "import os\n",
    "import lamini"
   ]
  },
  {
   "cell_type": "code",
   "execution_count": null,
   "metadata": {},
   "outputs": [],
   "source": [
    "lamini.api_url = os.getenv(\"29fdd2c14279829981d972ae6a5c386cc77a1738f64e25edb9266aa9ce502826\")\n",
    "lamini.api_key = os.getenv(\"29fdd2c14279829981d972ae6a5c386cc77a1738f64e25edb9266aa9ce502826\")\n",
    "from llama import BasicModelRunner"
   ]
  }
 ],
 "metadata": {
  "kernelspec": {
   "display_name": "Python 3",
   "language": "python",
   "name": "python3"
  },
  "language_info": {
   "codemirror_mode": {
    "name": "ipython",
    "version": 3
   },
   "file_extension": ".py",
   "mimetype": "text/x-python",
   "name": "python",
   "nbconvert_exporter": "python",
   "pygments_lexer": "ipython3",
   "version": "3.12.2"
  }
 },
 "nbformat": 4,
 "nbformat_minor": 2
}
